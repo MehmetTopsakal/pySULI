


import os
import sys
import shutil
import scipy


import numpy as np
import xarray as xr
import pandas as pd
import openpyxl


try:
    %matplotlib widget
except:
    %matplotlib inline
    
import matplotlib.pyplot as plt
plt.rcParams.update({'figure.max_open_warning': 0})
plt.rcParams['figure.constrained_layout.use'] = True





'''
Assuming 000.read_research_data_into_python.data directory exists here with this notebook ('000.read_research_data_into_python.ipynb')
''' 

here = os.getcwd()
example_data_path = '000.read_research_data_into_python.data'

os.listdir('%s/%s'%(here,example_data_path))








# navigate into plain_text directory 
os.chdir('%s/%s/%s'%(here,example_data_path,'plain_text'))

# list the contents of directory
os.listdir()








data = np.loadtxt('two-column-data.txt',unpack=True)
plt.figure()
plt.plot(data[0],data[1])





data = np.loadtxt('LaB6-XRD-data-from-XPD-beamline.xy',unpack=True)
plt.figure()
plt.plot(data[0],data[1])


data = np.loadtxt('Ni_calib_20190301-150927_459ff6_0001_mean_tth.chi',unpack=True,skiprows=7)
plt.figure()
plt.plot(data[0],data[1])


# Therefore, we can easily plot mu(E) for reference channel as below:

E, I0, It, Ir, If = np.loadtxt('Ni-foil-XAS-data-from-ISS-beamline.dat',unpack=True,usecols=[0,1,2,3,4])

fig = plt.figure(figsize=(4,4))
ax = fig.add_subplot(1,1,1)
ax.plot(E,np.log(I0/Ir))
ax.set_ylabel('$\mu(E)$')
ax.set_xlabel('Photon energy (eV)')


# Sometimes, we may be interested in showing some of the information in the header of the file in the plot.
# For example, the scan of file Ni-foil-XAS-data-from-ISS-beamline.dat started @ 06/17/2022  09:37:49
# and it ended @ 06/17/2022  09:38:24. Therefore, the scan took 34 seconds. We can include these info
# at the title of the plot as below.


fig = plt.figure(figsize=(4,4))
ax = fig.add_subplot(1,1,1)
ax.plot(E,np.log(I0/Ir))
ax.set_ylabel('$\mu(E)$')
ax.set_xlabel('Photon energy (eV)')
ax.set_title('Scan started @ 06/17/2022__09:37:49 \n Scan ended @ 06/17/2022__09:38:24 \n Scan took: 34 seconds');



import time
from datetime import datetime
with open('Ni-foil-XAS-data-from-ISS-beamline.dat', 'r') as file: #reads and slices out times from .dat file
    content = file.read()
    start = content[content.find('Scan.start_time:')+17:content.find('Scan.start_time:')+37]
    end = content[content.find('Scan.end_time:')+15:content.find('Scan.end_time:')+35]
strpstart = datetime.strptime(start, "%m/%d/%Y  %H:%M:%S") #creates datetime objects from strings
strpend = datetime.strptime(end, "%m/%d/%Y  %H:%M:%S")
difference = strpend - strpstart


# instead of entering title string manually, we can do it with python was as below.

fig = plt.figure(figsize=(4,4))
ax = fig.add_subplot(1,1,1)
ax.plot(E,np.log(I0/Ir))
ax.set_ylabel('$\mu(E)$')
ax.set_xlabel('Photon energy (eV)')
ax.set_title('Scan started @ '+strpstart.strftime('%m/%d/%Y  %H:%M:%S')+'\n Scan ended @ '+strpend.strftime('%m/%d/%Y  %H:%M:%S')+'\n Scan took: '+str(difference));


#plots for ISS
data = np.loadtxt('Ni-foil-XAS-data-from-ISS-beamline.dat',unpack=True)
fig, axs = plt.subplots(2, 4, figsize=(15,4))
axs[0, 0].plot(data[0],data[1])
axs[0, 0].set_title('i0')
axs[0, 1].plot(data[0],data[2])
axs[0, 1].set_title('it')
axs[0, 2].plot(data[0],data[3])
axs[0, 2].set_title('ir')
axs[0, 3].plot(data[0],data[4])
axs[0, 3].set_title('if')
axs[1, 0].plot(data[0],data[5])
axs[1, 0].set_title('aux1')
axs[1, 1].plot(data[0],data[6])
axs[1, 1].set_title('aux2')
axs[1, 2].plot(data[0],data[7])
axs[1, 2].set_title('aux3')
axs[1, 3].plot(data[0],data[8])
axs[1, 3].set_title('aux4')


#plots for QAS
data = np.loadtxt('Ni-foil-XAS-data-from-QAS-beamline.dat',unpack=True)
fig, axs = plt.subplots(2, 3, figsize=(15,4))
axs[0, 0].plot(data[0],data[1])
axs[0, 0].set_title('i0')
axs[0, 1].plot(data[0],data[2])
axs[0, 1].set_title('it')
axs[0, 2].plot(data[0],data[3])
axs[0, 2].set_title('ir')
axs[1, 0].plot(data[0],data[4])
axs[1, 0].set_title('pips')
axs[1, 1].plot(data[0],data[5])
axs[1, 1].set_title('adc7')
axs[1, 2].plot(data[0],data[6])
axs[1, 2].set_title('adc8')


data = np.loadtxt('topas.xy',unpack=True)
plt.figure()
plt.plot(data[0],data[1])


data = np.loadtxt('topas.xy',unpack=True)
plt.figure()
plt.plot(data[0],data[1])





#navigate to xls directory
os.chdir('%s/%s/%s'%(here,example_data_path,'xls'))
print('%s/%s/%s'%(here,example_data_path,'xls'))
os.listdir()


xls = pd.ExcelFile(r'25KI-LiCl-KCl_25oC.xlsx') #read file
sheetX = xls.parse(0) #read sheet 1
plt.plot(sheetX['Angles'],sheetX['Intensities'])





# navigate into image folder 
os.chdir('%s/%s/%s'%(here,example_data_path,'image'))

# list the contents of directory
os.listdir()


#open images and import image module
from PIL import Image
im1 = Image.open('NIST-LaB6-CeO2-mix.tiff')
im2 = Image.open('NIST-LaB6.png')
im3 = Image.open('NIST-LaB6.tiff')
#plot images without axes
f, axs = plt.subplots(1,3, figsize=(15,4))
axs[0].imshow(im1)
axs[0].set_axis_off()
axs[0].set_title('image 1')
axs[1].imshow(im2)
axs[1].set_axis_off()
axs[1].set_title('image 2')
axs[2].imshow(im3)
axs[2].set_axis_off()
axs[2].set_title('image 3')





# navigate into cdf folder 
os.chdir('%s/%s/%s'%(here,example_data_path,'netcdf'))

# list the contents of directory
os.listdir()


#takes different axes from the cdf and plots them
arr = xr.open_dataset('Pt-from-28ID-2-D.nc')
arr
arr.i2d.plot(robust=True)

#f, axs = plt.subplots(1,3, figsize=(15,4))
#radial = arr['radial'].values
#axs[0].plot(radial)
#axs[0].set_title('radial')
#q = arr['q'].values
#axs[1].plot(q)
###axs[1].set_title('q')
#az = arr['azimuthal'].values
#axs[2].plot(az)
#axs[2].set_title('azimuthal')





# navigate into h5 folder 
os.chdir('%s/%s/%s'%(here,example_data_path,'hdf'))
# list the contents of directory
os.listdir()


import h5py
f = h5py.File('bde401ed-ac56-45cd-b0c5_000000.h5', 'r') 
ls = list(f.keys())
ls


dset = f['entry']['data']['data']


dset





# navigate into npz folder 
os.chdir('%s/%s/%s'%(here,example_data_path,'npy'))
# list the contents of directory
os.listdir()


ds = np.load('feff.npz')
ls = list(ds.keys())
ls
dset = ds['_xmu']
plt.plot(dset);


#load and plot next file
ds = np.load('Ni_calib_20190301-150927_459ff6_0001_mask.npy')
plt.plot(ds);





# navigate into npz folder 
os.chdir('%s/%s/%s'%(here,example_data_path,'yaml'))
# list the contents of directory
os.listdir()


import yaml

with open('from_xpdacq.yaml') as stream:
        print(yaml.safe_load(stream))



