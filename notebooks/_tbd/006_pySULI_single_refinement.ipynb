{
 "cells": [
  {
   "cell_type": "markdown",
   "id": "eba71521-d44b-4a73-a9ba-53183d4db97b",
   "metadata": {},
   "source": [
    "# Refinement with GSASII, using pySULI Refiner class"
   ]
  },
  {
   "cell_type": "markdown",
   "id": "0",
   "metadata": {
    "id": "0"
   },
   "source": [
    "The purpose of this notebook is to demonstrate how to do a single refinement with the pySULI library modules.\n",
    "\n"
   ]
  },
  {
   "cell_type": "markdown",
   "id": "1",
   "metadata": {
    "id": "1"
   },
   "source": [
    "# General imports"
   ]
  },
  {
   "cell_type": "code",
   "execution_count": null,
   "id": "2",
   "metadata": {
    "executionInfo": {
     "elapsed": 1163,
     "status": "ok",
     "timestamp": 1720025363062,
     "user": {
      "displayName": "Mehmet Topsakal",
      "userId": "14121008150269864151"
     },
     "user_tz": 240
    },
    "id": "2"
   },
   "outputs": [],
   "source": [
    "# We need to import some Python libraries here first.\n",
    "import os    \n",
    "import sys\n",
    "import xarray as xr\n",
    "import numpy as np\n",
    "import random\n",
    "import string\n",
    "import time\n",
    "import matplotlib.pyplot as plt\n",
    "from tqdm import tqdm\n",
    "\n",
    "try:\n",
    "    %matplotlib widget\n",
    "except:\n",
    "    %matplotlib inline"
   ]
  },
  {
   "cell_type": "code",
   "execution_count": null,
   "id": "0OzrLHtu0iIL",
   "metadata": {
    "executionInfo": {
     "elapsed": 5,
     "status": "ok",
     "timestamp": 1720025363063,
     "user": {
      "displayName": "Mehmet Topsakal",
      "userId": "14121008150269864151"
     },
     "user_tz": 240
    },
    "id": "0OzrLHtu0iIL"
   },
   "outputs": [],
   "source": [
    "# We need import ipympl packages (if not available pip-install)\n",
    "try:\n",
    "    import ipympl\n",
    "except:\n",
    "    !! pip install ipympl"
   ]
  },
  {
   "cell_type": "markdown",
   "id": "d4fd8801-ccf6-4a31-9c11-5011c977bd1f",
   "metadata": {},
   "source": [
    "Let's check if we are in google colab."
   ]
  },
  {
   "cell_type": "code",
   "execution_count": null,
   "id": "677310c1-76c7-4863-80be-15ecb4b150ba",
   "metadata": {},
   "outputs": [],
   "source": [
    "in_colab = True\n",
    "try:\n",
    "    from google.colab import drive\n",
    "except:\n",
    "    in_colab = False"
   ]
  },
  {
   "cell_type": "markdown",
   "id": "bfd8243e-e63b-4476-a80c-0755f728911e",
   "metadata": {},
   "source": [
    "If in colab, run preperatory methods for using colab. Note that any individual directory strings may be up to change. Otherwise, prepare as we woud on a local machine."
   ]
  },
  {
   "cell_type": "markdown",
   "id": "d4568ed2-fb75-475e-be9f-d7b274e17aed",
   "metadata": {},
   "source": [
    "**Crucial note:**\n",
    "If you are trying to access a directory shared to you, you must create a shortcut to that given directory in your `MyDrive` folder, and then you can access it as we do below (This is how `RTE-24-4876` is accessed below). "
   ]
  },
  {
   "cell_type": "code",
   "execution_count": null,
   "id": "d56ca670-a4a2-4adf-8eb1-77bc776846a1",
   "metadata": {},
   "outputs": [],
   "source": [
    "# if running on google colab\n",
    "if in_colab:\n",
    "    # setting up a connection to our google drive\n",
    "    from google.colab import drive\n",
    "    drive.mount('/content/drive')\n",
    "    from google.colab import output\n",
    "    output.enable_custom_widget_manager()\n",
    "\n",
    "    # setting up the path on the drive to the notebooks, as well as the source code path\n",
    "    drive_path = '/content/drive/MyDrive/RTE-24-4876/code/pySULI-main/notebooks/'\n",
    "    os.chdir(drive_path)\n",
    "    src_path = '/content/drive/MyDrive/RTE-24-4876/code/pySULI-main/src/'\n",
    "    sys.path += [src_path]\n",
    "\n",
    "    \"\"\"\n",
    "    gsas2_package in here was obtained by the following procedure:\n",
    "    \n",
    "    I followed the Linux steps noted here: https://subversion.xray.aps.anl.gov/trac/pyGSAS/wiki/InstallLinux\n",
    "    - curl https://subversion.xray.aps.anl.gov/admin_pyGSAS/downloads/gsas2full-Latest-Linux-x86_64.sh > /tmp/gsas2full-Latest-Linux-x86_64.sh\n",
    "    - bash /tmp/gsas2full-Latest-Linux-x86_64.sh -b -p ~/g2full\n",
    "    \n",
    "    Instead of ~/g2full I used /content/drive/MyDrive/XRD-on-colab/gsas2_package as install path.\n",
    "    \n",
    "    Then I deleted everything except GSASII in /content/drive/MyDrive/XRD-on-colab/gsas2_package folder.\n",
    "    # There are some redundant stuff (.svn, __pycache__ doc fsource  help PDFfit2 ). I deleted those too.\n",
    "    \"\"\"\n",
    "    \n",
    "    if not os.path.isdir('gsas2_package'):\n",
    "    \n",
    "        print('downlading gsas_package')\n",
    "        ! gdown 1Mj4zFbWu_qXLTubquLsATeY_bu4qogCO # this is the Google Drive ID for gsas2_package_v5038.zip\n",
    "        ! unzip gsas2_package_v5038.zip\n",
    "    \n",
    "    sys.path += ['gsas2_package/GSASII']\n",
    "    !pip install pymatgen --use-deprecated=legacy-resolver\n",
    "\n",
    "if not in_colab:\n",
    "    sys.path += ['../src']\n",
    "    # assuming GSAS-II is installed on your machine \n",
    "    # as explained here: https://advancedphotonsource.github.io/GSAS-II-tutorials/install.html\n",
    "    # as a result of \"conda create -n GSASII briantoby::gsas2pkg  -c conda-forge\", GSAS-II\n",
    "    # will be installed on a env location. Then we add it to path as below.\n",
    "    user = \"pmeshkov\"\n",
    "    \n",
    "    match user:\n",
    "        case \"mtopsakal\":\n",
    "            sys.path += ['/home/mt/software/miniforge3/envs/GSASII/GSAS-II/GSASII']\n",
    "        case \"pmeshkov\":\n",
    "            sys.path += ['/opt/anaconda3/envs/GSASII/GSAS-II/GSASII']\n",
    "        case \"kmorell\":\n",
    "            sys.path += ['/Users/kevinmorell/g2full/GSAS-II/GSASII']"
   ]
  },
  {
   "cell_type": "code",
   "execution_count": null,
   "id": "525ee089-e062-4f76-8e9a-e86155ad359c",
   "metadata": {},
   "outputs": [],
   "source": [
    "import GSASIIscriptable as G2sc\n",
    "import pybaselines # this comes with gsas2_package\n",
    "import functions_lib_version as func\n",
    "import gsas2_functions as rf\n",
    "\n",
    "from IPython.display import clear_output\n",
    "#clear_output()"
   ]
  },
  {
   "cell_type": "markdown",
   "id": "4",
   "metadata": {
    "id": "4"
   },
   "source": [
    "# Setting up the example data path"
   ]
  },
  {
   "cell_type": "code",
   "execution_count": null,
   "id": "6",
   "metadata": {
    "colab": {
     "base_uri": "https://localhost:8080/"
    },
    "executionInfo": {
     "elapsed": 645,
     "status": "ok",
     "timestamp": 1720025264607,
     "user": {
      "displayName": "Mehmet Topsakal",
      "userId": "14121008150269864151"
     },
     "user_tz": 240
    },
    "id": "6",
    "outputId": "8a28ad6a-0c29-4698-e0bf-03dd4da855c6"
   },
   "outputs": [],
   "source": [
    "# Assuming notebook and data folder are here.\n",
    "\n",
    "here = os.getcwd()\n",
    "example_data_path = 'example_data/xrd_refinement_with_gsas2/'\n",
    "\n",
    "os.chdir('%s/%s'%(here,example_data_path))\n",
    "os.listdir()"
   ]
  },
  {
   "cell_type": "code",
   "execution_count": null,
   "id": "f8a034e3",
   "metadata": {
    "colab": {
     "base_uri": "https://localhost:8080/"
    },
    "executionInfo": {
     "elapsed": 223,
     "status": "ok",
     "timestamp": 1720025328723,
     "user": {
      "displayName": "Mehmet Topsakal",
      "userId": "14121008150269864151"
     },
     "user_tz": 240
    },
    "id": "f8a034e3",
    "outputId": "4e157fc7-1edf-4298-c400-44a6c471b003"
   },
   "outputs": [],
   "source": [
    "ls"
   ]
  },
  {
   "cell_type": "markdown",
   "id": "Jj9UtJmyEUzD",
   "metadata": {
    "id": "Jj9UtJmyEUzD"
   },
   "source": [
    "# Setting up GSAS-II package and custom refinement functions"
   ]
  },
  {
   "cell_type": "code",
   "execution_count": null,
   "id": "4960b33f",
   "metadata": {
    "colab": {
     "base_uri": "https://localhost:8080/",
     "height": 211
    },
    "executionInfo": {
     "elapsed": 172,
     "status": "error",
     "timestamp": 1720025343459,
     "user": {
      "displayName": "Mehmet Topsakal",
      "userId": "14121008150269864151"
     },
     "user_tz": 240
    },
    "id": "4960b33f",
    "outputId": "a269826e-335a-49d7-a5a5-b89870b62bf8"
   },
   "outputs": [],
   "source": [
    "# assuming GSAS-II is installed on the machine on conda\n",
    "# as explained here: https://advancedphotonsource.github.io/GSAS-II-tutorials/install.html\n",
    "# as a result of \"conda create -n GSASII briantoby::gsas2pkg  -c conda-forge\", GSAS-II\n",
    "# will be installed on a eng location. Then we add it to path as below.\n",
    "\n",
    "import sys\n",
    "\n",
    "user = \"kmorell\"\n",
    "\n",
    "match user:\n",
    "    case \"mtopsakal\":\n",
    "        sys.path += ['/home/mt/software/miniforge3/envs/GSASII/GSAS-II/GSASII']\n",
    "    case \"pmeshkov\":\n",
    "        sys.path += ['/opt/anaconda3/envs/GSASII/GSAS-II/GSASII']\n",
    "    case \"kmorell\":\n",
    "        sys.path += ['/Users/kevinmorell/g2full/GSAS-II/GSASII']\n",
    "\n",
    "from IPython.display import clear_output\n",
    "\n",
    "# clear_output()"
   ]
  },
  {
   "cell_type": "markdown",
   "id": "6e67742f-0d2a-49fd-bf0f-143012d7c3b4",
   "metadata": {
    "jp-MarkdownHeadingCollapsed": true
   },
   "source": [
    "## GSAS functions in pySULI\n",
    "\n",
    "All of the GSAS-II functions defined in notebook 005 are contained within the pySULI modules GSAS2_functions and functions_lib_version\n"
   ]
  },
  {
   "cell_type": "markdown",
   "id": "PAwo4woMEfom",
   "metadata": {
    "id": "PAwo4woMEfom"
   },
   "source": [
    "# Refinements"
   ]
  },
  {
   "cell_type": "code",
   "execution_count": null,
   "id": "b45b164d",
   "metadata": {
    "id": "b45b164d"
   },
   "outputs": [],
   "source": [
    "#Defining the background\n",
    "with xr.open_dataset('Background.nc') as ds:\n",
    "    da_input_bkg = ds.i2d.mean(dim='azimuthal')"
   ]
  },
  {
   "cell_type": "code",
   "execution_count": null,
   "id": "cd55c5f1-bdd7-41c2-8cca-f2b6677b2144",
   "metadata": {},
   "outputs": [],
   "source": [
    "#Creating the refiner\n",
    "first_refiner = rf.Refiner(\n",
    "    nc_path = 'LaB6.nc',\n",
    "    phases = [{'cif_abs_path':'LaB6.cif','phase_name':'LaB6','scale':1},],\n",
    "    gsas2_scratch = None,\n",
    "    instrument_parameters_file = 'gsas.instprm',\n",
    "    q_range = None,\n",
    "    da_input_bkg = None \n",
    "#NOTE: Refiner can create its own background if set to None. Try both to see changes in GoF and Rwp\n",
    ")"
   ]
  },
  {
   "cell_type": "code",
   "execution_count": null,
   "id": "7c4e14ef-36a1-4d6b-a9e3-4963a1c1a2f0",
   "metadata": {},
   "outputs": [],
   "source": [
    "# with pySULI, the 'refinement recipe' has been replaced with functions\n",
    "first_refiner.refine_background(20)\n",
    "first_refiner.refine_cell_params()\n",
    "first_refiner.refine_strain_broadening()\n",
    "first_refiner.refine_size_broadening()\n",
    "first_refiner.refine_background(20)\n",
    "first_refiner.refine_inst_parameters()\n",
    "first_refiner.save_refinement()\n",
    "first_refiner.plot_refinement_results()"
   ]
  },
  {
   "cell_type": "code",
   "execution_count": null,
   "id": "10eb46d5-3216-4ea8-8c5a-f9e3ae68c4db",
   "metadata": {},
   "outputs": [],
   "source": []
  }
 ],
 "metadata": {
  "colab": {
   "provenance": []
  },
  "kernelspec": {
   "display_name": "Python 3 (ipykernel)",
   "language": "python",
   "name": "python3"
  },
  "language_info": {
   "codemirror_mode": {
    "name": "ipython",
    "version": 3
   },
   "file_extension": ".py",
   "mimetype": "text/x-python",
   "name": "python",
   "nbconvert_exporter": "python",
   "pygments_lexer": "ipython3",
   "version": "3.11.7"
  }
 },
 "nbformat": 4,
 "nbformat_minor": 5
}
